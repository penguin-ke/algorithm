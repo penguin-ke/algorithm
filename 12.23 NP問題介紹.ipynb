{
  "nbformat": 4,
  "nbformat_minor": 0,
  "metadata": {
    "colab": {
      "name": "Untitled26.ipynb",
      "provenance": [],
      "collapsed_sections": [],
      "include_colab_link": true
    },
    "kernelspec": {
      "name": "python3",
      "display_name": "Python 3"
    }
  },
  "cells": [
    {
      "cell_type": "markdown",
      "metadata": {
        "id": "view-in-github",
        "colab_type": "text"
      },
      "source": [
        "<a href=\"https://colab.research.google.com/github/penguin-ke/algorithm/blob/master/12.23%20NP%E5%95%8F%E9%A1%8C%E4%BB%8B%E7%B4%B9.ipynb\" target=\"_parent\"><img src=\"https://colab.research.google.com/assets/colab-badge.svg\" alt=\"Open In Colab\"/></a>"
      ]
    },
    {
      "cell_type": "markdown",
      "metadata": {
        "id": "rIgPnC2uRVK-"
      },
      "source": [
        "**子集合加總問題(subset sum problem)**"
      ]
    },
    {
      "cell_type": "markdown",
      "metadata": {
        "id": "cfYzVDXxRsr8"
      },
      "source": [
        "問題敘述：\r\n",
        "對於某個給定的值M,如何在集合S裡找到子集合s,使子集合加總後為M\r\n",
        "\r\n",
        "例子：M=7,S={1,3,4,5} ---->s={3,4}\r\n"
      ]
    },
    {
      "cell_type": "markdown",
      "metadata": {
        "id": "W9AqJpYCQGKr"
      },
      "source": [
        "**NP-complete**"
      ]
    },
    {
      "cell_type": "markdown",
      "metadata": {
        "id": "eQjnt1f0GgUD"
      },
      "source": [
        "證明:\r\n",
        "\r\n",
        "So we have shown a reduction from 3SAT\r\n",
        "to SUBSET SUM, and so SUBSET SUM is NP-complete.[1]"
      ]
    },
    {
      "cell_type": "markdown",
      "metadata": {
        "id": "xNRMPnP7rYW9"
      },
      "source": [
        "解法(動態規劃法): [2]\r\n",
        "\r\n",
        "subset(i,j) --->表示S集合中前i個元素的子集和等於j\r\n",
        "\r\n",
        "若S[i] > j --->S[i]不在子集s中\r\n",
        "\r\n",
        "若S[i] <= j --->有以下兩種情況： \r\n",
        "\r\n",
        "1.   一種情況是S[i]**不在子集s中**，則subset(i, j) = subset(i-1, j)\r\n",
        "2.   一種情況是S[i]**在子集s中**，則subset(i, j)= subset(i-1, j-S[i])\r\n",
        "\r\n",
        "確認初始值↓\r\n",
        "\r\n",
        "對於i=0,1,2,...,n, 有subset(i, 0)=True (紅框部分)\r\n",
        "\r\n",
        "對於j=1,2,...,M, 有subset(0, j)=False  (藍框部分)\r\n",
        "\r\n",
        "利用動態規劃法，就能得到(n+1)*(M+1)的真值表了，而答案就是subset(n, M)\r\n",
        "\r\n",
        "\r\n"
      ]
    },
    {
      "cell_type": "code",
      "metadata": {
        "colab": {
          "base_uri": "https://localhost:8080/"
        },
        "id": "ntoytWjQS-Bf",
        "outputId": "009bde76-6e5e-48b4-e954-4862fdb1f452"
      },
      "source": [
        "import numpy as np\n",
        " \n",
        "# A Dynamic Programming solution for subset sum problem\n",
        "# Returns true if there is a subset of set with sum equal to given sum\n",
        " \n",
        "def isSubsetSum(S, n, M):\n",
        "    # The value of subset[i, j] will be\n",
        "    # true if there is a subset of\n",
        "    # set[0..j-1] with sum equal to i\n",
        "    subset = np.array([[True]*(M+1)]*(n+1))\n",
        "    \n",
        "    \n",
        "    # If sum is 0, then answer is true (設定初值--->紅框)\n",
        "    for i in range(0, n+1):\n",
        "        subset[i, 0] = True\n",
        "        \n",
        "        \n",
        "    # If sum is not 0 and set is empty, (設定初值--->藍框)\n",
        "    # then answer is false\n",
        "    for i in range(1, M+1):\n",
        "        subset[0, i] = False\n",
        "        \n",
        " \n",
        "    # Fill the subset table in bottom-up manner (*註1)\n",
        "    for i in range(1, n+1):\n",
        "        for j in range(1, M+1):\n",
        "            if j < S[i-1]:\n",
        "                subset[i, j] = subset[i-1, j]  \n",
        "            else:\n",
        "                subset[i, j] = subset[i-1, j] or subset[i-1, j-S[i-1]]\n",
        " \n",
        "    # print the True-False table(印出最終的真值表)\n",
        "    for i in range(0, n+1):\n",
        "        for j in range(0, M+1):\n",
        "           print(\"%-6s\"%subset[i][j], end=\"  \")\n",
        "        print(\" \")\n",
        " \n",
        "    if subset[n, M]: #如果綠框為True,為有解\n",
        "        print(\"Found a subset with given sum\")\n",
        "        sol = []\n",
        "        # using backtracing to find the solution (回溯法找解)\n",
        "        i = n\n",
        "        while i >= 0:\n",
        "            if subset[i, M] and not subset[i-1, M]:\n",
        "                sol.append(S[i-1])\n",
        "                M -= st[i-1]\n",
        "            if M == 0:\n",
        "                break\n",
        "            i -= 1\n",
        "        print(\"The solution is %s.\" % sol)\n",
        "    else:\n",
        "        print(\"No subset with given sum\")\n",
        " \n",
        "# test\n",
        "st = [1, 3, 4, 5]\n",
        "n = len(st)\n",
        "sm = 7\n",
        "isSubsetSum(st, n, sm)"
      ],
      "execution_count": null,
      "outputs": [
        {
          "output_type": "stream",
          "text": [
            "True    False   False   False   False   False   False   False    \n",
            "True    True    False   False   False   False   False   False    \n",
            "True    True    False   True    True    False   False   False    \n",
            "True    True    False   True    True    True    False   True     \n",
            "True    True    False   True    True    True    True    True     \n",
            "Found a subset with given sum\n",
            "The solution is [4, 3].\n"
          ],
          "name": "stdout"
        }
      ]
    },
    {
      "cell_type": "markdown",
      "metadata": {
        "id": "N65m-cA2qTNp"
      },
      "source": [
        "解法(真假值表格解釋)[3]\r\n"
      ]
    },
    {
      "cell_type": "markdown",
      "metadata": {
        "id": "OWhqKxGfrNVd"
      },
      "source": [
        "![image.png](data:image/png;base64,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)"
      ]
    },
    {
      "cell_type": "markdown",
      "metadata": {
        "id": "jD4pQL3UNDuo"
      },
      "source": [
        "**自寫程式**"
      ]
    },
    {
      "cell_type": "code",
      "metadata": {
        "id": "oqaubFMzJQpa",
        "colab": {
          "base_uri": "https://localhost:8080/"
        },
        "outputId": "7cb4b18d-a286-40d1-8e40-c7bcfd6e82d7"
      },
      "source": [
        "st = [1, 3, 4, 5]\r\n",
        "n = len(st)\r\n",
        "sm = 7\r\n",
        "\r\n",
        "print(\"數字為2個\")\r\n",
        "for i in range(n):\r\n",
        "  for j in range(i+1,n):\r\n",
        "    x=st[i]\r\n",
        "    y=st[j]\r\n",
        "    z=x+y\r\n",
        "    print(\"x=%d \"%x+\"y=%d ---> \"%y+\"z=%d+%d=%d\"%(x,y,z))\r\n",
        "    if z==sm:\r\n",
        "      print(\"↑\")\r\n",
        "      print(\"子集合有可以加總為%d的組合\"%sm)\r\n",
        "\r\n",
        "print(\"\")\r\n",
        "print(\"數字為3個\")\r\n",
        "for i in range(n):\r\n",
        "  for j in range(i+1,n-1):\r\n",
        "    for k in range(j+1,n):\r\n",
        "      x=st[i]\r\n",
        "      y=st[j]\r\n",
        "      o=st[k]\r\n",
        "      z=x+y+o\r\n",
        "      print(\"x=%d \"%x+\"y=%d \"%y+\"o=%d \"%o+\"z=%d+%d+%d=%d\"%(x,y,o,z))\r\n",
        "      if z==sm:\r\n",
        "       print(\"↑\")\r\n",
        "       print(\"子集合有可以加總為%d的組合\"%sm)\r\n",
        "\r\n",
        "print(\"\")\r\n",
        "print(\"數字為4個\")\r\n",
        "z=0\r\n",
        "for s in st:\r\n",
        "  z=z+s\r\n",
        "print(z)\r\n",
        "if z==sm:\r\n",
        " print(\"↑\")\r\n",
        " print(\"子集合有可以加總為%d的組合\"%sm)\r\n"
      ],
      "execution_count": 47,
      "outputs": [
        {
          "output_type": "stream",
          "text": [
            "數字為2個\n",
            "x=1 y=3 ---> z=1+3=4\n",
            "x=1 y=4 ---> z=1+4=5\n",
            "x=1 y=5 ---> z=1+5=6\n",
            "x=3 y=4 ---> z=3+4=7\n",
            "↑\n",
            "子集合有可以加總為7的組合\n",
            "x=3 y=5 ---> z=3+5=8\n",
            "x=4 y=5 ---> z=4+5=9\n",
            "\n",
            "數字為3個\n",
            "x=1 y=3 o=4 z=1+3+4=8\n",
            "x=1 y=3 o=5 z=1+3+5=9\n",
            "x=1 y=4 o=5 z=1+4+5=10\n",
            "x=3 y=4 o=5 z=3+4+5=12\n",
            "\n",
            "數字為4個\n",
            "13\n"
          ],
          "name": "stdout"
        }
      ]
    },
    {
      "cell_type": "markdown",
      "metadata": {
        "id": "Wn5XRXHdO0W4"
      },
      "source": [
        "**reference list**"
      ]
    },
    {
      "cell_type": "markdown",
      "metadata": {
        "id": "ah1cKO3mO3lI"
      },
      "source": [
        "[1] Proving NP-Completeness\r\n",
        "\r\n",
        "available:https://people.cs.clemson.edu/~goddard/texts/theoryOfComputation/19b.pdf\r\n",
        "\r\n",
        "[2] 動態規劃法（三）子集和問題(Subset sum problem)\r\n",
        "\r\n",
        "available:https://www.itread01.com/content/1528097890.html\r\n",
        "\r\n",
        "[3] Subset Sum Problem - Dynamic Problem 動態規劃\r\n",
        "\r\n",
        "available:https://www.bilibili.com/video/BV1NK411J7dV?t=236"
      ]
    }
  ]
}