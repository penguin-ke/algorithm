{
  "nbformat": 4,
  "nbformat_minor": 0,
  "metadata": {
    "colab": {
      "name": "「1202.ipynb」的副本",
      "provenance": [],
      "collapsed_sections": [],
      "authorship_tag": "ABX9TyNPl4HvqkG/OXmCaebEZqA5",
      "include_colab_link": true
    },
    "kernelspec": {
      "name": "python3",
      "display_name": "Python 3"
    }
  },
  "cells": [
    {
      "cell_type": "markdown",
      "metadata": {
        "id": "view-in-github",
        "colab_type": "text"
      },
      "source": [
        "<a href=\"https://colab.research.google.com/github/penguin-ke/algorithm/blob/master/1202.ipynb\" target=\"_parent\"><img src=\"https://colab.research.google.com/assets/colab-badge.svg\" alt=\"Open In Colab\"/></a>"
      ]
    },
    {
      "cell_type": "markdown",
      "metadata": {
        "id": "vh_M6AnIJJsx"
      },
      "source": [
        "貪婪法(找零錢)"
      ]
    },
    {
      "cell_type": "code",
      "metadata": {
        "colab": {
          "base_uri": "https://localhost:8080/"
        },
        "id": "RFitE72GJTjz",
        "outputId": "debb79cb-3742-4e07-f2a4-4a991ee5a50c"
      },
      "source": [
        "# t=面額\n",
        "t=[25,20,5,1]\n",
        "\n",
        "def change(t,n):\n",
        "\n",
        "  m=[0 for _ in range(len(t))]\n",
        "  for i,money in enumerate(t):\n",
        "    m[i]=n//money\n",
        "    n=n%money\n",
        "    print(m,end=\"  \")\n",
        "    print(n)\n",
        "# mm=多少錢   \n",
        "mm=int(input(\"請輸入多少錢:\"))\n",
        "change(t,mm)"
      ],
      "execution_count": null,
      "outputs": [
        {
          "output_type": "stream",
          "text": [
            "請輸入多少錢:41\n",
            "[1, 0, 0, 0]  16\n",
            "[1, 0, 0, 0]  16\n",
            "[1, 0, 3, 0]  1\n",
            "[1, 0, 3, 1]  0\n"
          ],
          "name": "stdout"
        }
      ]
    },
    {
      "cell_type": "markdown",
      "metadata": {
        "id": "QjrNmumpS5AD"
      },
      "source": [
        "動態規劃(找零錢)"
      ]
    },
    {
      "cell_type": "code",
      "metadata": {
        "colab": {
          "base_uri": "https://localhost:8080/"
        },
        "id": "XMhoekumWpl6",
        "outputId": "5fa42772-1420-4f25-ab35-4edd6a8a9d93"
      },
      "source": [
        "def getMinCounts(k, values):\n",
        "    memo = [-1] * (k + 1)\n",
        "    memo[0] = 0 # 初始化狀態\n",
        "    for item in range(1, k + 1):\n",
        "       memo[item] = k + 1\n",
        "   \n",
        "    for item in range(1, k + 1):\n",
        "        for coin in values:\n",
        "            if (item - coin < 0):\n",
        "                continue\n",
        "            memo[item] = min(memo[item], memo[item - coin] + 1) # 作出決策\n",
        "\n",
        "    return memo[k]\n",
        "\n",
        "def getMinCountsDPSol():\n",
        "    values = [25,20,5,1] # 硬幣面值\n",
        "    total = 41 # 總值\n",
        "\n",
        "    # 求得最小的硬幣數量\n",
        "    return getMinCounts(total, values) # 輸出答案\n",
        "\n",
        "def main():\n",
        "    result = getMinCountsDPSol()\n",
        "    print(result)\n",
        "\n",
        "if __name__ == \"__main__\":\n",
        "    main()"
      ],
      "execution_count": null,
      "outputs": [
        {
          "output_type": "stream",
          "text": [
            "3\n"
          ],
          "name": "stdout"
        }
      ]
    },
    {
      "cell_type": "markdown",
      "metadata": {
        "id": "ZEFiv0LRuVIi"
      },
      "source": [
        "參考資料\n",
        "https://iter01.com/538372.html\n"
      ]
    },
    {
      "cell_type": "markdown",
      "metadata": {
        "id": "I2ZPpt-qvDmy"
      },
      "source": [
        "\n",
        "\n",
        "---\n",
        "\n"
      ]
    },
    {
      "cell_type": "markdown",
      "metadata": {
        "id": "Mw7795t0uagC"
      },
      "source": [
        "貪婪法(背包)"
      ]
    },
    {
      "cell_type": "markdown",
      "metadata": {
        "id": "Cmmj-IlD0hYb"
      },
      "source": [
        "5kg $17000 PS5\n",
        "\n",
        "1kg $35000 iPad pro 12\n",
        "\n",
        "4kg $60000 Mac pro 15\n",
        "\n",
        "3kg $9000 HomePod\n",
        "\n",
        "2KG $20000 Mac mini "
      ]
    },
    {
      "cell_type": "code",
      "metadata": {
        "colab": {
          "base_uri": "https://localhost:8080/"
        },
        "id": "wVqQBTN1vCfR",
        "outputId": "3f6b8c6f-375a-4bb5-a00e-b7cbe856bc38"
      },
      "source": [
        "import numpy as np\n",
        "\n",
        "def first():\n",
        "  weight = [5, 1, 4, 3, 2]\n",
        "  price = [17000, 35000, 60000, 9000, 20000]\n",
        "  C = 10\n",
        "  item = list(zip(weight,price))\n",
        "  return item, C\n",
        "\n",
        "def Weight(item):  #選重量最小的物品\t\n",
        "\tdata = np.array(item)\n",
        "\tidex = np.lexsort([-1*data[:,1], data[:,0]])\n",
        "\treturn idex\n",
        "\n",
        "def GreedyAlgo(item, C, idex): #貪心算法\n",
        "\tnumber = len(item)\n",
        "\tstatus = [0] * number #每一項物品還未被選擇時的初始狀態\n",
        "\ttotal_weight = 0    \n",
        "\ttotal_value = 0\n",
        "\n",
        "\tfor i in range(number):\n",
        "\t\tif item[idex[i],0] <= C: #判斷是否超過限制重量\n",
        "\t\t\ttotal_weight += item[idex[i],0] #累加每次選擇後的物品重量\n",
        "\t\t\ttotal_value += item[idex[i],1]  #累加每次選擇後的物品價值\n",
        "\t\t\tstatus[idex[i]] = 1 #被選擇的物品會從0變為1\n",
        "\t\t\tprint(total_weight, total_value, status) \n",
        "\t\t\tC -= item[idex[i],0] \n",
        "\t\telse:\n",
        "\t\t\tcontinue\n",
        "  \n",
        "\treturn \"\"\n",
        "\n",
        "def main(): #主體結構\n",
        "  item, C = first()\n",
        "  item = np.array(item) \n",
        "  idex_weight = Weight(item)\n",
        "  results_weight = GreedyAlgo(item, C, idex_weight)\n",
        "  print(results_weight)\n",
        "\n",
        "start()\n",
        "main()"
      ],
      "execution_count": 56,
      "outputs": [
        {
          "output_type": "stream",
          "text": [
            "1 35000 [0, 1, 0, 0, 0]\n",
            "3 55000 [0, 1, 0, 0, 1]\n",
            "6 64000 [0, 1, 0, 1, 1]\n",
            "10 124000 [0, 1, 1, 1, 1]\n",
            "\n"
          ],
          "name": "stdout"
        }
      ]
    },
    {
      "cell_type": "markdown",
      "metadata": {
        "id": "i5GbG7Qya3Ms"
      },
      "source": [
        "參考資料 https://blog.csdn.net/Xavier_8031/article/details/103442708"
      ]
    },
    {
      "cell_type": "markdown",
      "metadata": {
        "id": "eIBfo2JwbDRu"
      },
      "source": [
        "動態規劃(背包)"
      ]
    },
    {
      "cell_type": "code",
      "metadata": {
        "colab": {
          "base_uri": "https://localhost:8080/"
        },
        "id": "xwNYpa01bJ2s",
        "outputId": "f06e1dab-a971-470f-d3c6-00c5c4a75728"
      },
      "source": [
        "\n",
        "# 將物品裝入背包，物品有重量,價值（v,price）\n",
        "# 背包總重量為C\n",
        "import numpy as np\n",
        "def pack():\n",
        "    C=10\n",
        "    num=5\n",
        "    v =[5,1,4,3,2] #物品重量\n",
        "    price=[17000,35000,60000,9000,20000] # 物品價值\n",
        "    sum=np.zeros((num+1,C+1)) # 相當於申請二維空間\n",
        "    for object in range(num+1): # 物品個數\n",
        "        for c in range(C+1): # 容量大小\n",
        "            if(object==0):    # 如果沒有裝入物品\n",
        "                sum[object][c]=0\n",
        "            else:\n",
        "                sum[object][c]=sum[object-1][c]\n",
        "            if(object>0 and c>=v[object-1]): # object>0,且背包可放下當前物品\n",
        "                # d[i][j] >?= d[i - 1][j - v[i - 1]] + price[i - 1];\n",
        "                sum[object][c]=max(sum[object-1][c],sum[object-1][c-v[object-1]]+price[object-1])\n",
        "    print(\"最高總價值:\",sum[num][C])\n",
        " \n",
        "    # 紀錄最終被裝入背包的物品\n",
        "    pack=np.zeros((num))\n",
        "    volume = C\n",
        "    #print(pack)\n",
        "    for object in range(num,-1,-1):  # 倒敘遍歷(循環)\n",
        "        if(sum[object][volume]>sum[object-1][volume]):  # 如果加入最後一個比前一個價值高\n",
        "            pack[object-1]=1\n",
        "            volume=volume-v[object-1]\n",
        " \n",
        "    print(\"物品裝包情況\",pack)\n",
        "    #print(C)\n",
        "    #print(sum)\n",
        " \n",
        "if __name__==\"__main__\":\n",
        "  pack()\n"
      ],
      "execution_count": 76,
      "outputs": [
        {
          "output_type": "stream",
          "text": [
            "最高總價值: 124000.0\n",
            "物品裝包情況 [0. 1. 1. 1. 1.]\n"
          ],
          "name": "stdout"
        }
      ]
    },
    {
      "cell_type": "markdown",
      "metadata": {
        "id": "wX2bk2QUsUr9"
      },
      "source": [
        "參考資料 https://blog.csdn.net/linweieran/article/details/100585052"
      ]
    }
  ]
}