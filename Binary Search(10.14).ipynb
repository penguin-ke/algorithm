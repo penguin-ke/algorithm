{
  "nbformat": 4,
  "nbformat_minor": 0,
  "metadata": {
    "colab": {
      "name": "Untitled11.ipynb",
      "provenance": [],
      "authorship_tag": "ABX9TyMs514dmK2qrhotjXw/Q7Xo",
      "include_colab_link": true
    },
    "kernelspec": {
      "name": "python3",
      "display_name": "Python 3"
    }
  },
  "cells": [
    {
      "cell_type": "markdown",
      "metadata": {
        "id": "view-in-github",
        "colab_type": "text"
      },
      "source": [
        "<a href=\"https://colab.research.google.com/github/penguin-ke/algorithm/blob/master/Binary%20Search(10.14).ipynb\" target=\"_parent\"><img src=\"https://colab.research.google.com/assets/colab-badge.svg\" alt=\"Open In Colab\"/></a>"
      ]
    },
    {
      "cell_type": "markdown",
      "metadata": {
        "id": "wSLZxW5q8ZNK"
      },
      "source": [
        "⼆元搜尋"
      ]
    },
    {
      "cell_type": "code",
      "metadata": {
        "id": "zEZUOVQgFSwE",
        "outputId": "2903a899-b9ca-4582-a14d-93eddc946485",
        "colab": {
          "base_uri": "https://localhost:8080/",
          "height": 34
        }
      },
      "source": [
        "def binarySearch(arr,l,r,x):\n",
        "  if r>=l:\n",
        "    mid=l+(r-l)//2\n",
        "    if arr[mid]==x:\n",
        "      return mid\n",
        "    elif arr[mid]>x:\n",
        "      return binarySearch(arr,l,mid-1,x)\n",
        "    else:\n",
        "      return binarySearch(arr,mid+1,r,x)\n",
        "  else:\n",
        "    return-1\n",
        "\n",
        "\n",
        "\n",
        "arr=[5,8,9,15,30]\n",
        "x=9\n",
        "\n",
        "#Function call\n",
        "result=binarySearch(arr,0,len(arr)-1,x)\n",
        "if result!=-1:\n",
        "  print(\"元素在索引%d\"%result)\n",
        "else:\n",
        "  print(\"在陣列中找不到該元素\")\n"
      ],
      "execution_count": 3,
      "outputs": [
        {
          "output_type": "stream",
          "text": [
            "元素在索引2\n"
          ],
          "name": "stdout"
        }
      ]
    },
    {
      "cell_type": "code",
      "metadata": {
        "id": "SOWdhcUN8eBX",
        "outputId": "54629334-3f93-462a-ee56-4d5945e3ec78",
        "colab": {
          "base_uri": "https://localhost:8080/",
          "height": 185
        }
      },
      "source": [
        "def binarySearch(arr,l,r,x):\n",
        "  if r>=l:\n",
        "    mid=l+(r-l)//2\n",
        "    if arr[mid]==x:\n",
        "      return mid\n",
        "    elif arr[mid]>x:\n",
        "      return binarySearch(arr,l,mid-1,x)\n",
        "    else:\n",
        "      return binarySearch(arr,mid+1,r,x)\n",
        "  else:\n",
        "    return-1\n",
        "\n",
        "\n",
        "data=[]\n",
        "\n",
        "for i in range(1,6):\n",
        "  i=int(input('請輸入整數: '))\n",
        "  data.append(i)\n",
        "print('原始 ',data)\n",
        "\n",
        "data.sort()\n",
        "print('排序後 ',data)\n",
        "\n",
        "x=int(input('請輸入欲搜索的元素為: '))\n",
        "\n",
        "#Function call\n",
        "result=binarySearch(data,0,len(data)-1,x)\n",
        "if result!=-1:\n",
        "  print(' ')\n",
        "  print(\"在陣列中有找到該元素\"+\" 在索引%d\"%result)\n",
        "else:\n",
        "  print(' ')\n",
        "  print(\"在陣列中找不到該元素\")\n"
      ],
      "execution_count": 1,
      "outputs": [
        {
          "output_type": "stream",
          "text": [
            "請輸入整數: 1\n",
            "請輸入整數: 85\n",
            "請輸入整數: 54\n",
            "請輸入整數: 25\n",
            "請輸入整數: 99\n",
            "原始  [1, 85, 54, 25, 99]\n",
            "排序後  [1, 25, 54, 85, 99]\n",
            "請輸入欲搜索的元素為: 1\n",
            " \n",
            "在陣列中有找到該元素 在索引0\n"
          ],
          "name": "stdout"
        }
      ]
    },
    {
      "cell_type": "markdown",
      "metadata": {
        "id": "e6GNS-a1qGCM"
      },
      "source": [
        "1,85,54,25,99"
      ]
    }
  ]
}