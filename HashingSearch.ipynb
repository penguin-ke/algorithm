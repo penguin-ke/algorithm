{
  "nbformat": 4,
  "nbformat_minor": 0,
  "metadata": {
    "colab": {
      "name": "Untitled14.ipynb",
      "provenance": [],
      "include_colab_link": true
    },
    "kernelspec": {
      "name": "python3",
      "display_name": "Python 3"
    }
  },
  "cells": [
    {
      "cell_type": "markdown",
      "metadata": {
        "id": "view-in-github",
        "colab_type": "text"
      },
      "source": [
        "<a href=\"https://colab.research.google.com/github/penguin-ke/algorithm/blob/master/HashingSearch.ipynb\" target=\"_parent\"><img src=\"https://colab.research.google.com/assets/colab-badge.svg\" alt=\"Open In Colab\"/></a>"
      ]
    },
    {
      "cell_type": "code",
      "metadata": {
        "id": "6xs9pqOnu_75",
        "outputId": "b4846a8b-c79d-4ef8-9db1-a11219d9f280",
        "colab": {
          "base_uri": "https://localhost:8080/",
          "height": 218
        }
      },
      "source": [
        "import random\n",
        "INDEXBOX=10 #雜湊表最大元素\n",
        "MAXNUM=7   #最大資料個數\n",
        "\n",
        "def print_data(data,max_number):   #列印陣列副程式\n",
        "  print('\\t',end='')\n",
        "  for i in range(max_number):\n",
        "    print('[%2d]'%data[i],end='')\n",
        "  print()\n",
        "\n",
        "def create_table(num,index):    #建立雜湊表副程式\n",
        "  tmp=num%INDEXBOX         #雜湊函數=資料%INDEXBOX\n",
        "  while True:\n",
        "    if index[tmp]==-1:     #如果資料對應的位置是空的\n",
        "      index[tmp]=num      #則直接存入資料\n",
        "      break\n",
        "    else:\n",
        "      tmp=(tmp+1)%INDEXBOX  #否則找位置往後放\n",
        "\n",
        "#Main\n",
        "index=[None]*INDEXBOX\n",
        "data=[5,18,15,16,4,19,8]\n",
        "\n",
        "print('原始陣列值:')\n",
        "#for i in range(MAXNUM):   #起始資料值\n",
        "  #data[i]=random.randint(1,20)\n",
        "for i in range(INDEXBOX):   #清除雜湊表\n",
        "  index[i]=-1\n",
        "print_data(data,MAXNUM)\n",
        "\n",
        "print('雜湊表內容:')\n",
        "for i in range(MAXNUM):\n",
        "  create_table(data[i],index)\n",
        "  print(' %2d=>'%data[i],end='')  #列印單一元素的雜湊表位置\n",
        "  print_data(index,INDEXBOX)\n",
        "\n",
        "print('完成雜湊表:')\n",
        "print_data(index,INDEXBOX)  #列印最後完成結果"
      ],
      "execution_count": null,
      "outputs": [
        {
          "output_type": "stream",
          "text": [
            "原始陣列值:\n",
            "\t[ 5][18][15][16][ 4][19][ 8]\n",
            "雜湊表內容:\n",
            "  5=>\t[-1][-1][-1][-1][-1][ 5][-1][-1][-1][-1]\n",
            " 18=>\t[-1][-1][-1][-1][-1][ 5][-1][-1][18][-1]\n",
            " 15=>\t[-1][-1][-1][-1][-1][ 5][15][-1][18][-1]\n",
            " 16=>\t[-1][-1][-1][-1][-1][ 5][15][16][18][-1]\n",
            "  4=>\t[-1][-1][-1][-1][ 4][ 5][15][16][18][-1]\n",
            " 19=>\t[-1][-1][-1][-1][ 4][ 5][15][16][18][19]\n",
            "  8=>\t[ 8][-1][-1][-1][ 4][ 5][15][16][18][19]\n",
            "完成雜湊表:\n",
            "\t[ 8][-1][-1][-1][ 4][ 5][15][16][18][19]\n"
          ],
          "name": "stdout"
        }
      ]
    },
    {
      "cell_type": "markdown",
      "metadata": {
        "id": "T5tcSQlAKCec"
      },
      "source": [
        "平方探測法"
      ]
    },
    {
      "cell_type": "code",
      "metadata": {
        "id": "wgkspuVLKIqN",
        "outputId": "3ba2acea-0211-461a-b65c-c43e157aa43a",
        "colab": {
          "base_uri": "https://localhost:8080/",
          "height": 218
        }
      },
      "source": [
        "import random\n",
        "INDEXBOX=10 #雜湊表最大元素\n",
        "MAXNUM=7   #最大資料個數\n",
        "\n",
        "def print_data(data,max_number):   #列印陣列副程式\n",
        "  print('\\t',end='')\n",
        "  for i in range(max_number):\n",
        "    print('[%2d]'%data[i],end='')\n",
        "  print()\n",
        "\n",
        "def create_table(num,index):    #建立雜湊表副程式\n",
        "  tmp=num%INDEXBOX         #雜湊函數=資料%INDEXBOX\n",
        "  if index[tmp]==-1:     #如果資料對應的位置是空的\n",
        "    index[tmp]=num          #則直接存入資料\n",
        "  else:\n",
        "    for i in range(1,INDEXBOX):\n",
        "      x=(tpm+(i**2))%INDEXBOX\n",
        "      if index[x]==-1:\n",
        "        index[x]=num\n",
        "        break\n",
        "\n",
        "#Main\n",
        "index=[None]*INDEXBOX\n",
        "data=[5,18,15,16,4,19,8]\n",
        "\n",
        "print('原始陣列值:')\n",
        "#for i in range(MAXNUM):   #起始資料值\n",
        "  #data[i]=random.randint(1,20)\n",
        "for i in range(INDEXBOX):   #清除雜湊表\n",
        "  index[i]=-1\n",
        "print_data(data,MAXNUM)\n",
        "\n",
        "print('雜湊表內容:')\n",
        "for i in range(MAXNUM):\n",
        "  create_table(data[i],index)\n",
        "  print(' %2d=>'%data[i],end='')  #列印單一元素的雜湊表位置\n",
        "  print_data(index,INDEXBOX)\n",
        "\n",
        "print('完成雜湊表:')\n",
        "print_data(index,INDEXBOX)  #列印最後完成結果"
      ],
      "execution_count": 33,
      "outputs": [
        {
          "output_type": "stream",
          "text": [
            "原始陣列值:\n",
            "\t[ 5][18][15][16][ 4][19][ 8]\n",
            "雜湊表內容:\n",
            "  5=>\t[-1][-1][-1][-1][-1][ 5][-1][-1][-1][-1]\n",
            " 18=>\t[-1][-1][-1][-1][-1][ 5][-1][-1][18][-1]\n",
            " 15=>\t[-1][-1][-1][-1][-1][ 5][15][-1][18][-1]\n",
            " 16=>\t[-1][-1][-1][-1][-1][ 5][15][16][18][-1]\n",
            "  4=>\t[-1][-1][-1][-1][ 4][ 5][15][16][18][-1]\n",
            " 19=>\t[-1][-1][-1][-1][ 4][ 5][15][16][18][19]\n",
            "  8=>\t[-1][-1][ 8][-1][ 4][ 5][15][16][18][19]\n",
            "完成雜湊表:\n",
            "\t[-1][-1][ 8][-1][ 4][ 5][15][16][18][19]\n"
          ],
          "name": "stdout"
        }
      ]
    }
  ]
}