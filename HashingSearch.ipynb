{
  "nbformat": 4,
  "nbformat_minor": 0,
  "metadata": {
    "colab": {
      "name": "Untitled14.ipynb",
      "provenance": [],
      "include_colab_link": true
    },
    "kernelspec": {
      "name": "python3",
      "display_name": "Python 3"
    }
  },
  "cells": [
    {
      "cell_type": "markdown",
      "metadata": {
        "id": "view-in-github",
        "colab_type": "text"
      },
      "source": [
        "<a href=\"https://colab.research.google.com/github/penguin-ke/algorithm/blob/master/HashingSearch.ipynb\" target=\"_parent\"><img src=\"https://colab.research.google.com/assets/colab-badge.svg\" alt=\"Open In Colab\"/></a>"
      ]
    },
    {
      "cell_type": "markdown",
      "metadata": {
        "id": "mlj5M9TDkiVi"
      },
      "source": [
        "線性探測法 "
      ]
    },
    {
      "cell_type": "code",
      "metadata": {
        "id": "6xs9pqOnu_75",
        "outputId": "02ccc439-ab13-4618-d09a-f5890eded8f5",
        "colab": {
          "base_uri": "https://localhost:8080/",
          "height": 235
        }
      },
      "source": [
        "import random\n",
        "INDEXBOX=10 #雜湊表最大元素\n",
        "MAXNUM=8   #最大資料個數\n",
        "\n",
        "def print_data(data,max_number):   #列印陣列副程式\n",
        "  print('\\t',end='')\n",
        "  for i in range(max_number):\n",
        "    print('[%2d]'%data[i],end='')\n",
        "  print()\n",
        "\n",
        "def create_table(num,index):    #建立雜湊表副程式\n",
        "  tmp=num%INDEXBOX         #雜湊函數=資料%INDEXBOX\n",
        "  while True:\n",
        "    if index[tmp]==-1:     #如果資料對應的位置是空的\n",
        "      index[tmp]=num      #則直接存入資料\n",
        "      break\n",
        "    else:\n",
        "      tmp=(tmp+1)%INDEXBOX  #否則找位置往後放\n",
        "\n",
        "#Main\n",
        "index=[None]*INDEXBOX\n",
        "data=[5,18,15,16,25,19,8,6]\n",
        "\n",
        "print('原始陣列值:')\n",
        "#for i in range(MAXNUM):   #起始資料值\n",
        "  #data[i]=random.randint(1,20)\n",
        "for i in range(INDEXBOX):   #清除雜湊表\n",
        "  index[i]=-1\n",
        "print_data(data,MAXNUM)\n",
        "\n",
        "print('雜湊表內容:')\n",
        "for i in range(MAXNUM):\n",
        "  create_table(data[i],index)\n",
        "  print(' %2d=>'%data[i],end='')  #列印單一元素的雜湊表位置\n",
        "  print_data(index,INDEXBOX)\n",
        "\n",
        "print('完成雜湊表:')\n",
        "print_data(index,INDEXBOX)  #列印最後完成結果"
      ],
      "execution_count": 38,
      "outputs": [
        {
          "output_type": "stream",
          "text": [
            "原始陣列值:\n",
            "\t[ 5][18][15][16][25][19][ 8][ 6]\n",
            "雜湊表內容:\n",
            "  5=>\t[-1][-1][-1][-1][-1][ 5][-1][-1][-1][-1]\n",
            " 18=>\t[-1][-1][-1][-1][-1][ 5][-1][-1][18][-1]\n",
            " 15=>\t[-1][-1][-1][-1][-1][ 5][15][-1][18][-1]\n",
            " 16=>\t[-1][-1][-1][-1][-1][ 5][15][16][18][-1]\n",
            " 25=>\t[-1][-1][-1][-1][-1][ 5][15][16][18][25]\n",
            " 19=>\t[19][-1][-1][-1][-1][ 5][15][16][18][25]\n",
            "  8=>\t[19][ 8][-1][-1][-1][ 5][15][16][18][25]\n",
            "  6=>\t[19][ 8][ 6][-1][-1][ 5][15][16][18][25]\n",
            "完成雜湊表:\n",
            "\t[19][ 8][ 6][-1][-1][ 5][15][16][18][25]\n"
          ],
          "name": "stdout"
        }
      ]
    },
    {
      "cell_type": "markdown",
      "metadata": {
        "id": "T5tcSQlAKCec"
      },
      "source": [
        "平方探測法"
      ]
    },
    {
      "cell_type": "code",
      "metadata": {
        "id": "wgkspuVLKIqN",
        "outputId": "85c97f4e-ff9c-4179-ce55-965afc2553d8",
        "colab": {
          "base_uri": "https://localhost:8080/",
          "height": 235
        }
      },
      "source": [
        "import random\n",
        "INDEXBOX=10 #雜湊表最大元素\n",
        "MAXNUM=8   #最大資料個數\n",
        "\n",
        "def print_data(data,max_number):   #列印陣列副程式\n",
        "  print('\\t',end='')\n",
        "  for i in range(max_number):\n",
        "    print('[%2d]'%data[i],end='')\n",
        "  print()\n",
        "\n",
        "def create_table(num,index):    #建立雜湊表副程式\n",
        "  tmp=num%INDEXBOX         #雜湊函數=資料%INDEXBOX\n",
        "  if index[tmp]==-1:     #如果資料對應的位置是空的\n",
        "    index[tmp]=num          #則直接存入資料\n",
        "  else:\n",
        "    for i in range(1,INDEXBOX):\n",
        "      x=(tmp+(i**2))%INDEXBOX    #平方探測法公式\n",
        "      if index[x]==-1:       \n",
        "        index[x]=num\n",
        "        break\n",
        "\n",
        "#Main\n",
        "index=[None]*INDEXBOX\n",
        "data=[5,18,15,16,25,19,8,6]\n",
        "\n",
        "print('原始陣列值:')\n",
        "#for i in range(MAXNUM):   #起始資料值\n",
        "  #data[i]=random.randint(1,20)\n",
        "for i in range(INDEXBOX):   #清除雜湊表\n",
        "  index[i]=-1\n",
        "print_data(data,MAXNUM)\n",
        "\n",
        "print('雜湊表內容:')\n",
        "for i in range(MAXNUM):\n",
        "  create_table(data[i],index)\n",
        "  print(' %2d=>'%data[i],end='')  #列印單一元素的雜湊表位置\n",
        "  print_data(index,INDEXBOX)\n",
        "\n",
        "print('完成雜湊表:')\n",
        "print_data(index,INDEXBOX)  #列印最後完成結果"
      ],
      "execution_count": 41,
      "outputs": [
        {
          "output_type": "stream",
          "text": [
            "原始陣列值:\n",
            "\t[ 5][18][15][16][25][19][ 8][ 6]\n",
            "雜湊表內容:\n",
            "  5=>\t[-1][-1][-1][-1][-1][ 5][-1][-1][-1][-1]\n",
            " 18=>\t[-1][-1][-1][-1][-1][ 5][-1][-1][18][-1]\n",
            " 15=>\t[-1][-1][-1][-1][-1][ 5][15][-1][18][-1]\n",
            " 16=>\t[-1][-1][-1][-1][-1][ 5][15][16][18][-1]\n",
            " 25=>\t[-1][-1][-1][-1][-1][ 5][15][16][18][25]\n",
            " 19=>\t[19][-1][-1][-1][-1][ 5][15][16][18][25]\n",
            "  8=>\t[19][-1][ 8][-1][-1][ 5][15][16][18][25]\n",
            "  6=>\t[19][ 6][ 8][-1][-1][ 5][15][16][18][25]\n",
            "完成雜湊表:\n",
            "\t[19][ 6][ 8][-1][-1][ 5][15][16][18][25]\n"
          ],
          "name": "stdout"
        }
      ]
    },
    {
      "cell_type": "markdown",
      "metadata": {
        "id": "C2L7NpU0ioN0"
      },
      "source": [
        "再雜湊法"
      ]
    },
    {
      "cell_type": "code",
      "metadata": {
        "id": "7BLbpF2SitaH",
        "outputId": "405d3c09-471a-4aa4-9d71-c864280bfa15",
        "colab": {
          "base_uri": "https://localhost:8080/",
          "height": 235
        }
      },
      "source": [
        "import random\n",
        "INDEXBOX=10 #雜湊表最大元素\n",
        "MAXNUM=8   #最大資料個數\n",
        "\n",
        "def print_data(data,max_number):   #列印陣列副程式\n",
        "  print('\\t',end='')\n",
        "  for i in range(max_number):\n",
        "    print('[%2d]'%data[i],end='')\n",
        "  print()\n",
        "\n",
        "def create_table(num,index):    #建立雜湊表副程式\n",
        "  tmp=num%INDEXBOX         #雜湊函數=資料%INDEXBOX\n",
        "  if index[tmp]==-1:     #如果資料對應的位置是空的\n",
        "    index[tmp]=num          #則直接存入資料\n",
        "  else:\n",
        "    for i in range(1,INDEXBOX):\n",
        "      x=(num+(i*2))%INDEXBOX    #再雜湊法公式\n",
        "      if index[x]==-1:       \n",
        "        index[x]=num\n",
        "        break\n",
        "\n",
        "#Main\n",
        "index=[None]*INDEXBOX\n",
        "data=[5,18,15,16,25,19,8,6]\n",
        "\n",
        "print('原始陣列值:')\n",
        "#for i in range(MAXNUM):   #起始資料值\n",
        "  #data[i]=random.randint(1,20)\n",
        "for i in range(INDEXBOX):   #清除雜湊表\n",
        "  index[i]=-1\n",
        "print_data(data,MAXNUM)\n",
        "\n",
        "print('雜湊表內容:')\n",
        "for i in range(MAXNUM):\n",
        "  create_table(data[i],index)\n",
        "  print(' %2d=>'%data[i],end='')  #列印單一元素的雜湊表位置\n",
        "  print_data(index,INDEXBOX)\n",
        "\n",
        "print('完成雜湊表:')\n",
        "print_data(index,INDEXBOX)  #列印最後完成結果"
      ],
      "execution_count": 40,
      "outputs": [
        {
          "output_type": "stream",
          "text": [
            "原始陣列值:\n",
            "\t[ 5][18][15][16][25][19][ 8][ 6]\n",
            "雜湊表內容:\n",
            "  5=>\t[-1][-1][-1][-1][-1][ 5][-1][-1][-1][-1]\n",
            " 18=>\t[-1][-1][-1][-1][-1][ 5][-1][-1][18][-1]\n",
            " 15=>\t[-1][-1][-1][-1][-1][ 5][-1][15][18][-1]\n",
            " 16=>\t[-1][-1][-1][-1][-1][ 5][16][15][18][-1]\n",
            " 25=>\t[-1][-1][-1][-1][-1][ 5][16][15][18][25]\n",
            " 19=>\t[-1][19][-1][-1][-1][ 5][16][15][18][25]\n",
            "  8=>\t[ 8][19][-1][-1][-1][ 5][16][15][18][25]\n",
            "  6=>\t[ 8][19][ 6][-1][-1][ 5][16][15][18][25]\n",
            "完成雜湊表:\n",
            "\t[ 8][19][ 6][-1][-1][ 5][16][15][18][25]\n"
          ],
          "name": "stdout"
        }
      ]
    }
  ]
}