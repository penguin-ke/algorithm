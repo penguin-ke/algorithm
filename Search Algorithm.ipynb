{
  "nbformat": 4,
  "nbformat_minor": 0,
  "metadata": {
    "colab": {
      "name": "Untitled10.ipynb",
      "provenance": [],
      "authorship_tag": "ABX9TyNWPXodQOChjqEeUzPbtUl0",
      "include_colab_link": true
    },
    "kernelspec": {
      "name": "python3",
      "display_name": "Python 3"
    }
  },
  "cells": [
    {
      "cell_type": "markdown",
      "metadata": {
        "id": "view-in-github",
        "colab_type": "text"
      },
      "source": [
        "<a href=\"https://colab.research.google.com/github/penguin-ke/algorithm/blob/master/Search%20Algorithm.ipynb\" target=\"_parent\"><img src=\"https://colab.research.google.com/assets/colab-badge.svg\" alt=\"Open In Colab\"/></a>"
      ]
    },
    {
      "cell_type": "markdown",
      "metadata": {
        "id": "VJyZp7uhw-_U"
      },
      "source": [
        "順序演算法"
      ]
    },
    {
      "cell_type": "code",
      "metadata": {
        "id": "4ycyNzjoxCD-"
      },
      "source": [
        "data=[20,31,50,17,16,36,19,8]\n",
        "\n",
        "def sequential_search(data,key):\n",
        "  for i in data:\n",
        "    if i==key:\n",
        "      print('找到了')\n",
        "      break\n",
        "\n",
        "sequential_search(data,1)"
      ],
      "execution_count": 8,
      "outputs": []
    },
    {
      "cell_type": "code",
      "metadata": {
        "id": "90qQYcY22t0L",
        "outputId": "02f1b4cc-31c9-491b-9745-acafb0bfb7be",
        "colab": {
          "base_uri": "https://localhost:8080/",
          "height": 51
        }
      },
      "source": [
        "\n",
        "def search(data, key):\n",
        "    tmp = [0] * (len(data) + 1) #tmp為1個長度為9的空串列\n",
        "    for i in range(1, len(data)):  \n",
        "        tmp[i] = data[i - 1]  #tmp第\n",
        "    tmp[0] = key       \n",
        "    i = len(data)\n",
        "    while tmp[i] != tmp[0]:\n",
        "        i -= 1\n",
        "    return i - 1\n",
        "\n",
        "data = [20,31,50,17,16,36,19,8]\n",
        "data.sort()\n",
        "print(data)\n",
        "find = search(data, 8)\n",
        "print(\"找到數值於索引 \" + str(find) if find >= 0 else \"找不到數值\")"
      ],
      "execution_count": 18,
      "outputs": [
        {
          "output_type": "stream",
          "text": [
            "[8, 16, 17, 19, 20, 31, 36, 50]\n",
            "找到數值於索引 0\n"
          ],
          "name": "stdout"
        }
      ]
    }
  ]
}