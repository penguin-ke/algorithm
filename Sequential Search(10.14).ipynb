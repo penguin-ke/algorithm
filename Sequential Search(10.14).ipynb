{
  "nbformat": 4,
  "nbformat_minor": 0,
  "metadata": {
    "colab": {
      "name": "Untitled10.ipynb",
      "provenance": [],
      "authorship_tag": "ABX9TyOvuYL1/+aXHlLl+Fz5s9uQ",
      "include_colab_link": true
    },
    "kernelspec": {
      "name": "python3",
      "display_name": "Python 3"
    }
  },
  "cells": [
    {
      "cell_type": "markdown",
      "metadata": {
        "id": "view-in-github",
        "colab_type": "text"
      },
      "source": [
        "<a href=\"https://colab.research.google.com/github/penguin-ke/algorithm/blob/master/Sequential%20Search(10.14).ipynb\" target=\"_parent\"><img src=\"https://colab.research.google.com/assets/colab-badge.svg\" alt=\"Open In Colab\"/></a>"
      ]
    },
    {
      "cell_type": "markdown",
      "metadata": {
        "id": "VJyZp7uhw-_U"
      },
      "source": [
        "順序演算法"
      ]
    },
    {
      "cell_type": "code",
      "metadata": {
        "id": "4ycyNzjoxCD-",
        "outputId": "b85d2f71-2a73-4e08-956f-d49b71a92f3c",
        "colab": {
          "base_uri": "https://localhost:8080/",
          "height": 34
        }
      },
      "source": [
        "data=[20,31,50,17,16,36,19,8]\n",
        "\n",
        "def sequential_search(data,key):\n",
        "  for i in data:       #判斷搜尋key值是否在data內\n",
        "    if i==key:\n",
        "      print('找到了')\n",
        "      break\n",
        "  else:             #因為if程式那行沒有滿足,所以執行else敘述\n",
        "    print('找不到')\n",
        "\n",
        "sequential_search(data,20)"
      ],
      "execution_count": 28,
      "outputs": [
        {
          "output_type": "stream",
          "text": [
            "找到了\n"
          ],
          "name": "stdout"
        }
      ]
    }
  ]
}