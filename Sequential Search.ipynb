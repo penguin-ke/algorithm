{
  "nbformat": 4,
  "nbformat_minor": 0,
  "metadata": {
    "colab": {
      "name": "Untitled11.ipynb",
      "provenance": [],
      "authorship_tag": "ABX9TyOvbsHoxXvnuoyHdGw2tPg2",
      "include_colab_link": true
    },
    "kernelspec": {
      "name": "python3",
      "display_name": "Python 3"
    }
  },
  "cells": [
    {
      "cell_type": "markdown",
      "metadata": {
        "id": "view-in-github",
        "colab_type": "text"
      },
      "source": [
        "<a href=\"https://colab.research.google.com/github/penguin-ke/algorithm/blob/master/Sequential%20Search.ipynb\" target=\"_parent\"><img src=\"https://colab.research.google.com/assets/colab-badge.svg\" alt=\"Open In Colab\"/></a>"
      ]
    },
    {
      "cell_type": "markdown",
      "metadata": {
        "id": "wSLZxW5q8ZNK"
      },
      "source": [
        "⼆元搜尋"
      ]
    },
    {
      "cell_type": "code",
      "metadata": {
        "id": "SOWdhcUN8eBX",
        "outputId": "dab79204-3ae5-4722-bf34-505bbcaf2e45",
        "colab": {
          "base_uri": "https://localhost:8080/",
          "height": 34
        }
      },
      "source": [
        "def binarySearch(arr,l,r,x):\n",
        "  if r>=l:\n",
        "    mid=l+(r-l)//2\n",
        "    if arr[mid]==x:\n",
        "      return mid\n",
        "    elif arr[mid]>x:\n",
        "      return binarySearch(arr,l,mid-1,x)\n",
        "    else:\n",
        "      return binarySearch(arr,mid+1,r,x)\n",
        "  else:\n",
        "    return-1\n",
        "\n",
        "arr=[5,8,9,15,30]\n",
        "x=20\n",
        "\n",
        "#Function call\n",
        "result=binarySearch(arr,0,len(arr)-1,x)\n",
        "if result!=-1:\n",
        "  print(\"元素在索引%d\"%result)\n",
        "else:\n",
        "  print(\"在陣列中找不到該元素\")\n"
      ],
      "execution_count": 2,
      "outputs": [
        {
          "output_type": "stream",
          "text": [
            "在陣列中找不到該元素\n"
          ],
          "name": "stdout"
        }
      ]
    }
  ]
}