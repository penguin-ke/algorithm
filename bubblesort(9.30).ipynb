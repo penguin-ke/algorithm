{
  "nbformat": 4,
  "nbformat_minor": 0,
  "metadata": {
    "colab": {
      "name": "bubblesort.ipynb",
      "provenance": [],
      "include_colab_link": true
    },
    "kernelspec": {
      "name": "python3",
      "display_name": "Python 3"
    }
  },
  "cells": [
    {
      "cell_type": "markdown",
      "metadata": {
        "id": "view-in-github",
        "colab_type": "text"
      },
      "source": [
        "<a href=\"https://colab.research.google.com/github/penguin-ke/algorithm/blob/master/bubblesort(9.30).ipynb\" target=\"_parent\"><img src=\"https://colab.research.google.com/assets/colab-badge.svg\" alt=\"Open In Colab\"/></a>"
      ]
    },
    {
      "cell_type": "markdown",
      "metadata": {
        "id": "32sgU0StMiof"
      },
      "source": [
        "Bubble sort (氣泡排序)"
      ]
    },
    {
      "cell_type": "code",
      "metadata": {
        "id": "esB_4fSeMLYJ",
        "outputId": "d60e6dce-a7aa-4563-d3a1-81b6614beef2",
        "colab": {
          "base_uri": "https://localhost:8080/"
        }
      },
      "source": [
        "def Bubble_Sort(datas):                 #假設len(data)為n                                                    #執行次數\n",
        "    for i in range(1, len(datas)): # 有n個資料長度,但只要執行n-1次                                                  # n-1\n",
        "        for j in range(len(datas)-i):   # 從第1個數字到倒數第2個數字                                              /# (n-1)*(n-1)\n",
        "            if datas[j] > datas[j+1]:   # 依以下順序比較數字:j=0和j=1比較、j=1和j=2比較....以此類推(也就是第1筆和第2筆比較、第2筆和第3筆比較...........)  /#\n",
        "                datas[j], datas[j+1] = datas[j+1], datas[j] #若符合前一行if的條件,就進行交換位置的動作                          /#\n",
        "    return datas                                                                             /# 1\n",
        "                                                                                     # big-O為 O(n的平方)\n",
        "\n",
        "if __name__ == '__main__':\n",
        "    import random\n",
        "    a = []\n",
        "    for i in range(1,7):\n",
        "        i=int(input('請輸入整數: '))\n",
        "        a.append(i)\n",
        "    random.shuffle(a)\n",
        "    print(a)\n",
        "    a = Bubble_Sort(a)\n",
        "    print(a)"
      ],
      "execution_count": 13,
      "outputs": [
        {
          "output_type": "stream",
          "text": [
            "請輸入整數: 1\n",
            "請輸入整數: 5\n",
            "請輸入整數: 89\n",
            "請輸入整數: 74\n",
            "請輸入整數: 16\n",
            "請輸入整數: 21\n",
            "[89, 1, 21, 74, 16, 5]\n",
            "[1, 5, 16, 21, 74, 89]\n"
          ],
          "name": "stdout"
        }
      ]
    },
    {
      "cell_type": "markdown",
      "metadata": {
        "id": "MOQ_aZKnM-wL"
      },
      "source": [
        "請加入註解，並將程式修改為加入六個數做氣泡排序\n"
      ]
    }
  ]
}