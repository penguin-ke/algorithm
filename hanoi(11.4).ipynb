{
  "nbformat": 4,
  "nbformat_minor": 0,
  "metadata": {
    "colab": {
      "name": "Untitled16.ipynb",
      "provenance": [],
      "authorship_tag": "ABX9TyOy3bpS7Xqug82lGGtvsZCN",
      "include_colab_link": true
    },
    "kernelspec": {
      "name": "python3",
      "display_name": "Python 3"
    }
  },
  "cells": [
    {
      "cell_type": "markdown",
      "metadata": {
        "id": "view-in-github",
        "colab_type": "text"
      },
      "source": [
        "<a href=\"https://colab.research.google.com/github/penguin-ke/algorithm/blob/master/hanoi(11.4).ipynb\" target=\"_parent\"><img src=\"https://colab.research.google.com/assets/colab-badge.svg\" alt=\"Open In Colab\"/></a>"
      ]
    },
    {
      "cell_type": "code",
      "metadata": {
        "id": "yF4fo4PwEift",
        "outputId": "1c96be59-2969-4222-f0ec-34780393debe",
        "colab": {
          "base_uri": "https://localhost:8080/"
        }
      },
      "source": [
        "x=0\n",
        "def hanoi(n,p1,p2,p3):\n",
        "  global x\n",
        "  if n==1:\n",
        "    x=x+1\n",
        "    print('%s-->%s'%(p1,p3)+\" 執行次數:%d\"%x)\n",
        "  else:\n",
        "    hanoi(n-1,p1,p3,p2)\n",
        "    x=x+1\n",
        "    print('%s-->%s'%(p1,p3)+\" 執行次數:%d\"%x)\n",
        "    hanoi(n-1,p2,p1,p3)\n",
        "\n",
        "j=int(input('請輸入套環數量:'))\n",
        "print('      ')\n",
        "hanoi(j,\"A\",\"B\",\"C\")"
      ],
      "execution_count": 14,
      "outputs": [
        {
          "output_type": "stream",
          "text": [
            "請輸入套環數量:5\n",
            "      \n",
            "A-->C 執行次數:1\n",
            "A-->B 執行次數:2\n",
            "C-->B 執行次數:3\n",
            "A-->C 執行次數:4\n",
            "B-->A 執行次數:5\n",
            "B-->C 執行次數:6\n",
            "A-->C 執行次數:7\n",
            "A-->B 執行次數:8\n",
            "C-->B 執行次數:9\n",
            "C-->A 執行次數:10\n",
            "B-->A 執行次數:11\n",
            "C-->B 執行次數:12\n",
            "A-->C 執行次數:13\n",
            "A-->B 執行次數:14\n",
            "C-->B 執行次數:15\n",
            "A-->C 執行次數:16\n",
            "B-->A 執行次數:17\n",
            "B-->C 執行次數:18\n",
            "A-->C 執行次數:19\n",
            "B-->A 執行次數:20\n",
            "C-->B 執行次數:21\n",
            "C-->A 執行次數:22\n",
            "B-->A 執行次數:23\n",
            "B-->C 執行次數:24\n",
            "A-->C 執行次數:25\n",
            "A-->B 執行次數:26\n",
            "C-->B 執行次數:27\n",
            "A-->C 執行次數:28\n",
            "B-->A 執行次數:29\n",
            "B-->C 執行次數:30\n",
            "A-->C 執行次數:31\n"
          ],
          "name": "stdout"
        }
      ]
    }
  ]
}