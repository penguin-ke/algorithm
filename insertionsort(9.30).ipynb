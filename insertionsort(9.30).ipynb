{
  "nbformat": 4,
  "nbformat_minor": 0,
  "metadata": {
    "colab": {
      "name": "insertionsort.ipynb",
      "provenance": [],
      "collapsed_sections": [],
      "include_colab_link": true
    },
    "kernelspec": {
      "name": "python3",
      "display_name": "Python 3"
    }
  },
  "cells": [
    {
      "cell_type": "markdown",
      "metadata": {
        "id": "view-in-github",
        "colab_type": "text"
      },
      "source": [
        "<a href=\"https://colab.research.google.com/github/penguin-ke/algorithm/blob/master/insertionsort(9.30).ipynb\" target=\"_parent\"><img src=\"https://colab.research.google.com/assets/colab-badge.svg\" alt=\"Open In Colab\"/></a>"
      ]
    },
    {
      "cell_type": "markdown",
      "metadata": {
        "id": "j95w6SLwOC0z"
      },
      "source": [
        "Insertion sort (插入排序)"
      ]
    },
    {
      "cell_type": "code",
      "metadata": {
        "id": "BxBaYEwzNj_v",
        "outputId": "57f3fcc5-4aa5-4343-bee4-1504e1cd6946",
        "colab": {
          "base_uri": "https://localhost:8080/"
        }
      },
      "source": [
        "\n",
        "def Insertion_Sort(datas):\n",
        "    for i in range(1, len(datas)):  # 從第2個數字到最後1個數字\n",
        "        for j in range(i):\n",
        "            current = datas[i]\n",
        "            if current < datas[j]:\n",
        "                for k in range(i,j):\n",
        "                  print(datas)\n",
        "    return datas\n",
        "\n",
        "                                           #執行次數 設len(arr)為n\n",
        "def insertionSort(arr):\n",
        "    for i in range(len(arr)):                         # n\n",
        "        preIndex = i-1                           # n\n",
        "        current = arr[i]                          # n\n",
        "        while preIndex >= 0 and arr[preIndex] > current:        #\n",
        "            arr[preIndex+1] = arr[preIndex] #把所有元素往後推一個位置\n",
        "            preIndex-=1\n",
        "        arr[preIndex+1] = current\n",
        "        print(arr)\n",
        "    return arr\n",
        "\n",
        "if __name__ == '__main__':\n",
        "    import random\n",
        "    a = list(range(1,6)) #數字1-5\n",
        "    random.shuffle(a)\n",
        "    b = a.copy()\n",
        "\n",
        "    arr = insertionSort(a)\n",
        "    print('---'*5) #虛線長度\n",
        "    Insertion_Sort(b)"
      ],
      "execution_count": null,
      "outputs": [
        {
          "output_type": "stream",
          "text": [
            "[5, 1, 3, 4, 2]\n",
            "[1, 5, 3, 4, 2]\n",
            "[1, 3, 5, 4, 2]\n",
            "[1, 3, 4, 5, 2]\n",
            "[1, 2, 3, 4, 5]\n",
            "---------------\n"
          ],
          "name": "stdout"
        }
      ]
    }
  ]
}