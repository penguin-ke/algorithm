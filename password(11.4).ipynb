{
  "nbformat": 4,
  "nbformat_minor": 0,
  "metadata": {
    "colab": {
      "name": "Untitled17.ipynb",
      "provenance": [],
      "authorship_tag": "ABX9TyOtabBeQnXBrvUOCIwNkie6",
      "include_colab_link": true
    },
    "kernelspec": {
      "name": "python3",
      "display_name": "Python 3"
    }
  },
  "cells": [
    {
      "cell_type": "markdown",
      "metadata": {
        "id": "view-in-github",
        "colab_type": "text"
      },
      "source": [
        "<a href=\"https://colab.research.google.com/github/penguin-ke/algorithm/blob/master/password(11.4).ipynb\" target=\"_parent\"><img src=\"https://colab.research.google.com/assets/colab-badge.svg\" alt=\"Open In Colab\"/></a>"
      ]
    },
    {
      "cell_type": "code",
      "metadata": {
        "id": "Ei-z2_P0gCNf",
        "outputId": "9832c9db-de85-4de4-e79c-b479f77e6765",
        "colab": {
          "base_uri": "https://localhost:8080/"
        }
      },
      "source": [
        "import random\n",
        "\n",
        "low = 1\n",
        "high = 100\n",
        "answer = random.randint(low, high) #隨機產生1個數字\n",
        "print(answer)\n",
        "print('   ')\n",
        "\n",
        "#重複猜數字，直到猜對為止\n",
        "while True:\n",
        "    guess = (input('密碼介於 %d-%d:'%(low,high)+'\\n>>'))\n",
        "    guess = int(guess) #轉換為整數\n",
        "    \n",
        "    #檢查輸入的數字是否介於範圍內\n",
        "    if guess <= low or guess >= high:\n",
        "        print('請輸入 %d-%d 之間的整數'%(low,high)+'\\n')\n",
        "        continue\n",
        "\n",
        "    \n",
        "    #判斷有沒有猜中密碼\n",
        "    if guess == answer:\n",
        "        print('答對了！')\n",
        "        break   #猜對才跳脫迴圈\n",
        "    elif guess < answer:\n",
        "        low = guess\n",
        "    else:\n",
        "        high = guess\n",
        "\n",
        "\n"
      ],
      "execution_count": 45,
      "outputs": [
        {
          "output_type": "stream",
          "text": [
            "65\n",
            "   \n",
            "密碼介於 1-100:\n",
            ">>30\n",
            "密碼介於 30-100:\n",
            ">>80\n",
            "密碼介於 30-80:\n",
            ">>90\n",
            "請輸入 30-80 之間的整數\n",
            "\n",
            "密碼介於 30-80:\n",
            ">>60\n",
            "密碼介於 60-80:\n",
            ">>75\n",
            "密碼介於 60-75:\n",
            ">>64\n",
            "密碼介於 64-75:\n",
            ">>65\n",
            "答對了！\n"
          ],
          "name": "stdout"
        }
      ]
    }
  ]
}