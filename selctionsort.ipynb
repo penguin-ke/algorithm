{
  "nbformat": 4,
  "nbformat_minor": 0,
  "metadata": {
    "colab": {
      "name": "selctionsort.ipynb",
      "provenance": [],
      "collapsed_sections": [],
      "include_colab_link": true
    },
    "kernelspec": {
      "name": "python3",
      "display_name": "Python 3"
    }
  },
  "cells": [
    {
      "cell_type": "markdown",
      "metadata": {
        "id": "view-in-github",
        "colab_type": "text"
      },
      "source": [
        "<a href=\"https://colab.research.google.com/github/penguin-ke/algorithm/blob/master/selctionsort.ipynb\" target=\"_parent\"><img src=\"https://colab.research.google.com/assets/colab-badge.svg\" alt=\"Open In Colab\"/></a>"
      ]
    },
    {
      "cell_type": "markdown",
      "metadata": {
        "id": "W-Z0kMaDLJOp"
      },
      "source": [
        "Selection sort (選擇排序)"
      ]
    },
    {
      "cell_type": "code",
      "metadata": {
        "id": "8tM3sv79HQ_V",
        "outputId": "aa6ba414-b8dc-452f-c72d-29ebff60ebc8",
        "colab": {
          "base_uri": "https://localhost:8080/",
          "height": 521
        }
      },
      "source": [
        "def Selction_Sort(datas):                                    # 執行次數 (假設len(data)為n)\n",
        "    for i in range(len(datas)-1):                             #  n-1\n",
        "        min = i # 第一次選從第一個數開始,第二次從第二個數開始            /#  n-1\n",
        "        for j in range(i+1, len(datas)):    # 用記錄的max數與其他的比較     #  \n",
        "            if datas[j] < datas[min]:                       #  \n",
        "                min = j                            /#\n",
        "\n",
        "        datas[i], datas[min] = datas[min], datas[i]                 /#  n\n",
        "\n",
        "        print(datas)                                   #  n\n",
        "        print('---'*16) #虛線長度                            #  n-1\n",
        "    return datas                                      /#  1\n",
        "\n",
        "\n",
        "if __name__ == '__main__':\n",
        "    import random\n",
        "    a = list(range(1,16)) #數字1-15\n",
        "    random.shuffle(a)\n",
        "    print(a)\n",
        "    a = Selction_Sort(a)\n",
        "    print(a)"
      ],
      "execution_count": null,
      "outputs": [
        {
          "output_type": "stream",
          "text": [
            "[7, 2, 15, 1, 13, 12, 10, 5, 11, 6, 3, 14, 4, 9, 8]\n",
            "[1, 2, 15, 7, 13, 12, 10, 5, 11, 6, 3, 14, 4, 9, 8]\n",
            "------------------------------------------------\n",
            "[1, 2, 15, 7, 13, 12, 10, 5, 11, 6, 3, 14, 4, 9, 8]\n",
            "------------------------------------------------\n",
            "[1, 2, 3, 7, 13, 12, 10, 5, 11, 6, 15, 14, 4, 9, 8]\n",
            "------------------------------------------------\n",
            "[1, 2, 3, 4, 13, 12, 10, 5, 11, 6, 15, 14, 7, 9, 8]\n",
            "------------------------------------------------\n",
            "[1, 2, 3, 4, 5, 12, 10, 13, 11, 6, 15, 14, 7, 9, 8]\n",
            "------------------------------------------------\n",
            "[1, 2, 3, 4, 5, 6, 10, 13, 11, 12, 15, 14, 7, 9, 8]\n",
            "------------------------------------------------\n",
            "[1, 2, 3, 4, 5, 6, 7, 13, 11, 12, 15, 14, 10, 9, 8]\n",
            "------------------------------------------------\n",
            "[1, 2, 3, 4, 5, 6, 7, 8, 11, 12, 15, 14, 10, 9, 13]\n",
            "------------------------------------------------\n",
            "[1, 2, 3, 4, 5, 6, 7, 8, 9, 12, 15, 14, 10, 11, 13]\n",
            "------------------------------------------------\n",
            "[1, 2, 3, 4, 5, 6, 7, 8, 9, 10, 15, 14, 12, 11, 13]\n",
            "------------------------------------------------\n",
            "[1, 2, 3, 4, 5, 6, 7, 8, 9, 10, 11, 14, 12, 15, 13]\n",
            "------------------------------------------------\n",
            "[1, 2, 3, 4, 5, 6, 7, 8, 9, 10, 11, 12, 14, 15, 13]\n",
            "------------------------------------------------\n",
            "[1, 2, 3, 4, 5, 6, 7, 8, 9, 10, 11, 12, 13, 15, 14]\n",
            "------------------------------------------------\n",
            "[1, 2, 3, 4, 5, 6, 7, 8, 9, 10, 11, 12, 13, 14, 15]\n",
            "------------------------------------------------\n",
            "[1, 2, 3, 4, 5, 6, 7, 8, 9, 10, 11, 12, 13, 14, 15]\n"
          ],
          "name": "stdout"
        }
      ]
    },
    {
      "cell_type": "markdown",
      "metadata": {
        "id": "MiWPt8bALDN5"
      },
      "source": [
        "請加入註解\n"
      ]
    }
  ]
}