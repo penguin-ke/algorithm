{
  "nbformat": 4,
  "nbformat_minor": 0,
  "metadata": {
    "colab": {
      "name": "selctionsort.ipynb",
      "provenance": [],
      "collapsed_sections": [],
      "include_colab_link": true
    },
    "kernelspec": {
      "name": "python3",
      "display_name": "Python 3"
    }
  },
  "cells": [
    {
      "cell_type": "markdown",
      "metadata": {
        "id": "view-in-github",
        "colab_type": "text"
      },
      "source": [
        "<a href=\"https://colab.research.google.com/github/penguin-ke/algorithm/blob/master/selctionsort.ipynb\" target=\"_parent\"><img src=\"https://colab.research.google.com/assets/colab-badge.svg\" alt=\"Open In Colab\"/></a>"
      ]
    },
    {
      "cell_type": "markdown",
      "metadata": {
        "id": "W-Z0kMaDLJOp"
      },
      "source": [
        "Selection sort (選擇排序)"
      ]
    },
    {
      "cell_type": "code",
      "metadata": {
        "id": "8tM3sv79HQ_V",
        "outputId": "aa6ba414-b8dc-452f-c72d-29ebff60ebc8",
        "colab": {
          "base_uri": "https://localhost:8080/",
          "height": 521
        }
      },
      "source": [
        "def Selction_Sort(datas):                                    # 執行次數 (假設len(data)為n)\n",
        "    for i in range(len(datas)-1):                             #  n-1\n",
        "        min = i # 第一次選從第一個數開始,第二次從第二個數開始            /#  n-1\n",
        "        for j in range(i+1, len(datas)):    # 用記錄的max數與其他的比較     #  註1\n",
        "            if datas[j] < datas[min]:                       #  註1\n",
        "                min = j                            /#  跟隨前一行,如果if成立的話\n",
        "\n",
        "        datas[i], datas[min] = datas[min], datas[i]                 /#  n\n",
        "\n",
        "        print(datas)                                   #  n\n",
        "        print('---'*16) #虛線長度                            #  n-1\n",
        "    return datas                                      /#  1\n",
        "\n",
        "\n",
        "if __name__ == '__main__':                                  # big-O 為 O(n的平方)\n",
        "    import random\n",
        "    a = list(range(1,16)) #數字1-15\n",
        "    random.shuffle(a)\n",
        "    print(a)\n",
        "    a = Selction_Sort(a)\n",
        "    print(a)"
      ],
      "execution_count": null,
      "outputs": [
        {
          "output_type": "stream",
          "text": [
            "[7, 2, 15, 1, 13, 12, 10, 5, 11, 6, 3, 14, 4, 9, 8]\n",
            "[1, 2, 15, 7, 13, 12, 10, 5, 11, 6, 3, 14, 4, 9, 8]\n",
            "------------------------------------------------\n",
            "[1, 2, 15, 7, 13, 12, 10, 5, 11, 6, 3, 14, 4, 9, 8]\n",
            "------------------------------------------------\n",
            "[1, 2, 3, 7, 13, 12, 10, 5, 11, 6, 15, 14, 4, 9, 8]\n",
            "------------------------------------------------\n",
            "[1, 2, 3, 4, 13, 12, 10, 5, 11, 6, 15, 14, 7, 9, 8]\n",
            "------------------------------------------------\n",
            "[1, 2, 3, 4, 5, 12, 10, 13, 11, 6, 15, 14, 7, 9, 8]\n",
            "------------------------------------------------\n",
            "[1, 2, 3, 4, 5, 6, 10, 13, 11, 12, 15, 14, 7, 9, 8]\n",
            "------------------------------------------------\n",
            "[1, 2, 3, 4, 5, 6, 7, 13, 11, 12, 15, 14, 10, 9, 8]\n",
            "------------------------------------------------\n",
            "[1, 2, 3, 4, 5, 6, 7, 8, 11, 12, 15, 14, 10, 9, 13]\n",
            "------------------------------------------------\n",
            "[1, 2, 3, 4, 5, 6, 7, 8, 9, 12, 15, 14, 10, 11, 13]\n",
            "------------------------------------------------\n",
            "[1, 2, 3, 4, 5, 6, 7, 8, 9, 10, 15, 14, 12, 11, 13]\n",
            "------------------------------------------------\n",
            "[1, 2, 3, 4, 5, 6, 7, 8, 9, 10, 11, 14, 12, 15, 13]\n",
            "------------------------------------------------\n",
            "[1, 2, 3, 4, 5, 6, 7, 8, 9, 10, 11, 12, 14, 15, 13]\n",
            "------------------------------------------------\n",
            "[1, 2, 3, 4, 5, 6, 7, 8, 9, 10, 11, 12, 13, 15, 14]\n",
            "------------------------------------------------\n",
            "[1, 2, 3, 4, 5, 6, 7, 8, 9, 10, 11, 12, 13, 14, 15]\n",
            "------------------------------------------------\n",
            "[1, 2, 3, 4, 5, 6, 7, 8, 9, 10, 11, 12, 13, 14, 15]\n"
          ],
          "name": "stdout"
        }
      ]
    },
    {
      "cell_type": "markdown",
      "metadata": {
        "id": "MiWPt8bALDN5"
      },
      "source": [
        "請加入註解\n"
      ]
    },
    {
      "cell_type": "markdown",
      "metadata": {
        "id": "tdXYCyMqBEoP"
      },
      "source": [
        "註1↓\n",
        "\n",
        "![算式1.PNG](data:image/png;base64,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)"
      ]
    }
  ]
}