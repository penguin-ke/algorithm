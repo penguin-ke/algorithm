{
  "nbformat": 4,
  "nbformat_minor": 0,
  "metadata": {
    "colab": {
      "name": "selctionsort.ipynb",
      "provenance": [],
      "collapsed_sections": [],
      "include_colab_link": true
    },
    "kernelspec": {
      "name": "python3",
      "display_name": "Python 3"
    }
  },
  "cells": [
    {
      "cell_type": "markdown",
      "metadata": {
        "id": "view-in-github",
        "colab_type": "text"
      },
      "source": [
        "<a href=\"https://colab.research.google.com/github/penguin-ke/algorithm/blob/master/selctionsort.ipynb\" target=\"_parent\"><img src=\"https://colab.research.google.com/assets/colab-badge.svg\" alt=\"Open In Colab\"/></a>"
      ]
    },
    {
      "cell_type": "markdown",
      "metadata": {
        "id": "W-Z0kMaDLJOp",
        "colab_type": "text"
      },
      "source": [
        "Selection sort (選擇排序)"
      ]
    },
    {
      "cell_type": "code",
      "metadata": {
        "id": "8tM3sv79HQ_V",
        "colab_type": "code",
        "colab": {
          "base_uri": "https://localhost:8080/",
          "height": 487
        },
        "outputId": "cc10e8f2-9b9e-4dc3-a723-ed27247ccd94"
      },
      "source": [
        "def Selction_Sort(datas):\n",
        "    for i in range(len(datas)-1):\n",
        "        min = i # 第一次選從第一個數開始,第二次從第二個數開始\n",
        "        for j in range(i+1, len(datas)):    # 用記錄的max數與其他的比較\n",
        "            if datas[j] < datas[min]:\n",
        "                min = j\n",
        "\n",
        "        datas[i], datas[min] = datas[min], datas[i]\n",
        "\n",
        "        print(datas)\n",
        "        print('---'*17) #虛線長度\n",
        "    return datas\n",
        "\n",
        "\n",
        "if __name__ == '__main__':\n",
        "    import random\n",
        "    a = list(range(1,15)) #數字1-15\n",
        "    random.shuffle(a)\n",
        "    print(a)\n",
        "    a = Selction_Sort(a)\n",
        "    print(a)"
      ],
      "execution_count": 5,
      "outputs": [
        {
          "output_type": "stream",
          "text": [
            "[5, 10, 12, 7, 11, 4, 2, 3, 13, 6, 1, 8, 14, 9]\n",
            "[1, 10, 12, 7, 11, 4, 2, 3, 13, 6, 5, 8, 14, 9]\n",
            "---------------------------------------------------\n",
            "[1, 2, 12, 7, 11, 4, 10, 3, 13, 6, 5, 8, 14, 9]\n",
            "---------------------------------------------------\n",
            "[1, 2, 3, 7, 11, 4, 10, 12, 13, 6, 5, 8, 14, 9]\n",
            "---------------------------------------------------\n",
            "[1, 2, 3, 4, 11, 7, 10, 12, 13, 6, 5, 8, 14, 9]\n",
            "---------------------------------------------------\n",
            "[1, 2, 3, 4, 5, 7, 10, 12, 13, 6, 11, 8, 14, 9]\n",
            "---------------------------------------------------\n",
            "[1, 2, 3, 4, 5, 6, 10, 12, 13, 7, 11, 8, 14, 9]\n",
            "---------------------------------------------------\n",
            "[1, 2, 3, 4, 5, 6, 7, 12, 13, 10, 11, 8, 14, 9]\n",
            "---------------------------------------------------\n",
            "[1, 2, 3, 4, 5, 6, 7, 8, 13, 10, 11, 12, 14, 9]\n",
            "---------------------------------------------------\n",
            "[1, 2, 3, 4, 5, 6, 7, 8, 9, 10, 11, 12, 14, 13]\n",
            "---------------------------------------------------\n",
            "[1, 2, 3, 4, 5, 6, 7, 8, 9, 10, 11, 12, 14, 13]\n",
            "---------------------------------------------------\n",
            "[1, 2, 3, 4, 5, 6, 7, 8, 9, 10, 11, 12, 14, 13]\n",
            "---------------------------------------------------\n",
            "[1, 2, 3, 4, 5, 6, 7, 8, 9, 10, 11, 12, 14, 13]\n",
            "---------------------------------------------------\n",
            "[1, 2, 3, 4, 5, 6, 7, 8, 9, 10, 11, 12, 13, 14]\n",
            "---------------------------------------------------\n",
            "[1, 2, 3, 4, 5, 6, 7, 8, 9, 10, 11, 12, 13, 14]\n"
          ],
          "name": "stdout"
        }
      ]
    },
    {
      "cell_type": "markdown",
      "metadata": {
        "id": "MiWPt8bALDN5",
        "colab_type": "text"
      },
      "source": [
        "請加入註解\n"
      ]
    }
  ]
}